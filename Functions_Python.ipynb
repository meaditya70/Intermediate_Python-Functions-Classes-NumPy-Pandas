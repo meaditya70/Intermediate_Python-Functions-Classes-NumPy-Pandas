{
 "cells": [
  {
   "cell_type": "markdown",
   "metadata": {},
   "source": [
    "# Functions in Python\n",
    "The <b>def</b> keyword is used to define a function <br>  \n",
    "### Syntax:\n",
    "<b><i>def function_name(parameters): </i></b><br>\n",
    "&nbsp;&nbsp;&nbsp;&nbsp;&nbsp;&nbsp; <i> statements </i>\n",
    "\n",
    "#### Topics to be covered:\n",
    "1. Functions in python may/maynot have a <b>return</b> statement.\n",
    "2. Functions may or may not have parameters.\n",
    "3. Setting default parameter values.\n",
    "4. Passing list/tuples/sets/dictionaries in python.\n",
    "5. Unknown number of arguments.\n",
    "6. Parameter Passing using keyword.\n",
    "7. <b> Is there a main function in Python? </b>"
   ]
  },
  {
   "cell_type": "code",
   "execution_count": 2,
   "metadata": {},
   "outputs": [
    {
     "name": "stdout",
     "output_type": "stream",
     "text": [
      "My name is Aditya\n"
     ]
    }
   ],
   "source": [
    "def myfunc():\n",
    "    print(\"My name is Aditya\")\n",
    "myfunc()"
   ]
  },
  {
   "cell_type": "code",
   "execution_count": 4,
   "metadata": {},
   "outputs": [
    {
     "name": "stdout",
     "output_type": "stream",
     "text": [
      "My name is Aditya\n"
     ]
    }
   ],
   "source": [
    "def myfunc():\n",
    "    return \"My name is Aditya\"\n",
    "print(myfunc())"
   ]
  },
  {
   "cell_type": "code",
   "execution_count": 6,
   "metadata": {},
   "outputs": [
    {
     "name": "stdout",
     "output_type": "stream",
     "text": [
      "My name is Aditya\n"
     ]
    }
   ],
   "source": [
    "def myfunc(name):\n",
    "    return \"My name is \" + str(name)\n",
    "print(myfunc(\"Aditya\"))"
   ]
  },
  {
   "cell_type": "code",
   "execution_count": 7,
   "metadata": {},
   "outputs": [
    {
     "name": "stdout",
     "output_type": "stream",
     "text": [
      "My name is A\n",
      "My name is B\n",
      "My name is Aditya\n",
      "My name is D\n",
      "My name is Aditya\n"
     ]
    }
   ],
   "source": [
    "def myfunc(name=\"Aditya\"):\n",
    "    return \"My name is \" + str(name)\n",
    "\n",
    "print(myfunc(\"A\"))\n",
    "print(myfunc(\"B\"))\n",
    "print(myfunc())\n",
    "print(myfunc(\"D\"))\n",
    "print(myfunc(\"Aditya\"))"
   ]
  },
  {
   "cell_type": "code",
   "execution_count": 10,
   "metadata": {},
   "outputs": [
    {
     "name": "stdout",
     "output_type": "stream",
     "text": [
      "The value at index 2 is 6\n",
      "The value at index 0 is 2\n",
      "Set cannot be accessed using index, but the set is {2, 3, 6}\n",
      "The value at index Age is 24\n"
     ]
    }
   ],
   "source": [
    "def myfunc(element,index=0):\n",
    "    if(type(element)==set):\n",
    "        print(\"Set cannot be accessed using index, but the set is\",element)\n",
    "    else:\n",
    "        print(\"The value at index\",index,\"is\",element[index])\n",
    "\n",
    "mylist=[1,2,6,2]\n",
    "mytuple=(2,8,5)\n",
    "myset={2,6,3}\n",
    "mydict={\"Name\":\"Aditya\",\"Age\":\"24\"}\n",
    "\n",
    "myfunc(mylist,2)\n",
    "myfunc(mytuple)\n",
    "myfunc(myset)\n",
    "myfunc(mydict,\"Age\")"
   ]
  },
  {
   "cell_type": "code",
   "execution_count": 13,
   "metadata": {},
   "outputs": [
    {
     "name": "stdout",
     "output_type": "stream",
     "text": [
      "\n",
      "The length of args is 1\n",
      "A \n",
      "The length of args is 3\n",
      "A B C "
     ]
    }
   ],
   "source": [
    "def myfunc(*args):\n",
    "    print(\"\\nThe length of args is\",len(args))\n",
    "    for value in args:\n",
    "        print(value, end=\" \")\n",
    "\n",
    "myfunc(\"A\")\n",
    "myfunc(\"A\",\"B\",\"C\")"
   ]
  },
  {
   "cell_type": "code",
   "execution_count": 16,
   "metadata": {},
   "outputs": [
    {
     "name": "stdout",
     "output_type": "stream",
     "text": [
      "The value at index 2 is 6\n",
      "The value at index 2 is 6\n"
     ]
    }
   ],
   "source": [
    "def myfunc(element,index=0):\n",
    "    print(\"The value at index\",index,\"is\",element[index])\n",
    "\n",
    "mylist=[1,2,6,2]\n",
    "\n",
    "myfunc(element=mylist,index=2)\n",
    "myfunc(index=2,element=mylist)"
   ]
  },
  {
   "cell_type": "code",
   "execution_count": 17,
   "metadata": {},
   "outputs": [
    {
     "name": "stdout",
     "output_type": "stream",
     "text": [
      "This is the main function\n",
      "This is myfunc\n"
     ]
    }
   ],
   "source": [
    "#THE MAIN FUNCTION IN PYTHON\n",
    "\n",
    "def myfunc():\n",
    "    print(\"This is myfunc\")\n",
    "\n",
    "def main():\n",
    "    print(\"This is the main function\")\n",
    "    myfunc()\n",
    "\n",
    "if __name__==\"__main__\":\n",
    "    main()"
   ]
  },
  {
   "cell_type": "code",
   "execution_count": null,
   "metadata": {},
   "outputs": [],
   "source": []
  }
 ],
 "metadata": {
  "kernelspec": {
   "display_name": "Python 3",
   "language": "python",
   "name": "python3"
  },
  "language_info": {
   "codemirror_mode": {
    "name": "ipython",
    "version": 3
   },
   "file_extension": ".py",
   "mimetype": "text/x-python",
   "name": "python",
   "nbconvert_exporter": "python",
   "pygments_lexer": "ipython3",
   "version": "3.8.3"
  }
 },
 "nbformat": 4,
 "nbformat_minor": 4
}
