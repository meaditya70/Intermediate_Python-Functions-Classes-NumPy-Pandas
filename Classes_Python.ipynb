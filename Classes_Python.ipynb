{
 "cells": [
  {
   "cell_type": "markdown",
   "metadata": {},
   "source": [
    "# OOP Concept - Overview of CLASS in Python\n",
    "\n",
    "The <b> class </b> keyword is used to define a class in python.\n",
    "\n",
    "#### Topics to be covered:\n",
    "1. Classes, objects and members\n",
    "2. Constructors and Destructors\n",
    "3. Inheritance in breif\n",
    "4. Access Specifiers - Public, Protected and Private\n",
    "\n"
   ]
  },
  {
   "cell_type": "code",
   "execution_count": 3,
   "metadata": {},
   "outputs": [
    {
     "name": "stdout",
     "output_type": "stream",
     "text": [
      "This is the diplay function of class Animal\n"
     ]
    }
   ],
   "source": [
    "class Animal:\n",
    "    def display(self):\n",
    "        print(\"This is the diplay function of class Animal\")\n",
    "a = Animal()\n",
    "a.display()\n"
   ]
  },
  {
   "cell_type": "code",
   "execution_count": 5,
   "metadata": {},
   "outputs": [
    {
     "name": "stdout",
     "output_type": "stream",
     "text": [
      "This is constructor\n",
      "Aditya\n",
      "CSE\n",
      "This is destructor\n"
     ]
    }
   ],
   "source": [
    "class Student:\n",
    "    def __init__(self,name,dept):\n",
    "        self.name_student=name\n",
    "        self.department=dept\n",
    "        print(\"This is constructor\")\n",
    "    def __del__(self):\n",
    "        print(\"This is destructor\")\n",
    "        \n",
    "s1 = Student(\"Aditya\",\"CSE\")\n",
    "print(s1.name_student)\n",
    "print(s1.department)\n",
    "del s1"
   ]
  },
  {
   "cell_type": "code",
   "execution_count": 11,
   "metadata": {},
   "outputs": [
    {
     "name": "stdout",
     "output_type": "stream",
     "text": [
      "Parent Class info\n",
      "NERIST Aditya CSE\n",
      "Child Class info\n",
      "NERIST Aditya CSE\n"
     ]
    }
   ],
   "source": [
    "class college:\n",
    "    def __init__(self,cname,sname,sdept):\n",
    "        self._college_name=cname\n",
    "        self.student_name=sname\n",
    "        self._department=sdept\n",
    "        \n",
    "    def display_parent(self):\n",
    "        print(\"Parent Class info\")\n",
    "        print(self._college_name,self.student_name,self._department)\n",
    "        \n",
    "class student(college):\n",
    "    def __init__(self,cname,sname,sdept):\n",
    "        college.__init__(self,cname,sname,sdept)\n",
    "    \n",
    "    def display_child(self):\n",
    "        print(\"Child Class info\")\n",
    "        print(self._college_name,self.student_name,self._department)\n",
    "\n",
    "s1 = student(\"NERIST\",\"Aditya\",\"CSE\")\n",
    "s1.display_parent()\n",
    "s1.display_child()"
   ]
  },
  {
   "cell_type": "code",
   "execution_count": null,
   "metadata": {},
   "outputs": [],
   "source": []
  }
 ],
 "metadata": {
  "kernelspec": {
   "display_name": "Python 3",
   "language": "python",
   "name": "python3"
  },
  "language_info": {
   "codemirror_mode": {
    "name": "ipython",
    "version": 3
   },
   "file_extension": ".py",
   "mimetype": "text/x-python",
   "name": "python",
   "nbconvert_exporter": "python",
   "pygments_lexer": "ipython3",
   "version": "3.8.3"
  }
 },
 "nbformat": 4,
 "nbformat_minor": 4
}
